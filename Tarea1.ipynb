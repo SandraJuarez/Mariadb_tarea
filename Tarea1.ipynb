{
 "cells": [
  {
   "cell_type": "code",
   "execution_count": null,
   "id": "7b52b785",
   "metadata": {},
   "outputs": [],
   "source": [
    "import mariadb\n",
    "import sys\n",
    "\n",
    "config = {\n",
    "    'host': '127.0.0.1',\n",
    "    'port': 3306,\n",
    "    'user': 'root',\n",
    "    'password': 'root',\n",
    "    'database': 'employees'\n",
    "}\n"
   ]
  },
  {
   "cell_type": "code",
   "execution_count": null,
   "id": "db4f58bb",
   "metadata": {},
   "outputs": [],
   "source": [
    "# connection for MariaDB\n",
    "try:\n",
    "    conn = mariadb.connect(**config)\n",
    "\n",
    "except mariadb.Error as e:\n",
    "    print(f\"Error para conectarse con Maria DB: {e}\")\n",
    "    sys.exit(1)\n",
    "\n",
    "# Enable Auto-Commit\n",
    "conn.autocommit = True\n",
    "\n",
    "# create a connection cursor\n",
    "cur = conn.cursor()"
   ]
  },
  {
   "cell_type": "code",
   "execution_count": null,
   "id": "99220cc1",
   "metadata": {},
   "outputs": [
    {
     "name": "stderr",
     "output_type": "stream",
     "text": [
      "c:\\Users\\52333\\AppData\\Local\\Programs\\Python\\Python310\\lib\\site-packages\\pandas\\io\\sql.py:761: UserWarning: pandas only support SQLAlchemy connectable(engine/connection) ordatabase string URI or sqlite3 DBAPI2 connectionother DBAPI2 objects are not tested, please consider using SQLAlchemy\n",
      "  warnings.warn(\n"
     ]
    },
    {
     "data": {
      "text/html": [
       "<div>\n",
       "<style scoped>\n",
       "    .dataframe tbody tr th:only-of-type {\n",
       "        vertical-align: middle;\n",
       "    }\n",
       "\n",
       "    .dataframe tbody tr th {\n",
       "        vertical-align: top;\n",
       "    }\n",
       "\n",
       "    .dataframe thead th {\n",
       "        text-align: right;\n",
       "    }\n",
       "</style>\n",
       "<table border=\"1\" class=\"dataframe\">\n",
       "  <thead>\n",
       "    <tr style=\"text-align: right;\">\n",
       "      <th></th>\n",
       "      <th>title</th>\n",
       "      <th>salary</th>\n",
       "      <th>from_date</th>\n",
       "    </tr>\n",
       "  </thead>\n",
       "  <tbody>\n",
       "    <tr>\n",
       "      <th>0</th>\n",
       "      <td>Senior Engineer</td>\n",
       "      <td>60117</td>\n",
       "      <td>1986-06-26</td>\n",
       "    </tr>\n",
       "    <tr>\n",
       "      <th>1</th>\n",
       "      <td>Senior Engineer</td>\n",
       "      <td>62102</td>\n",
       "      <td>1987-06-26</td>\n",
       "    </tr>\n",
       "    <tr>\n",
       "      <th>2</th>\n",
       "      <td>Senior Engineer</td>\n",
       "      <td>66074</td>\n",
       "      <td>1988-06-25</td>\n",
       "    </tr>\n",
       "    <tr>\n",
       "      <th>3</th>\n",
       "      <td>Senior Engineer</td>\n",
       "      <td>66596</td>\n",
       "      <td>1989-06-25</td>\n",
       "    </tr>\n",
       "    <tr>\n",
       "      <th>4</th>\n",
       "      <td>Senior Engineer</td>\n",
       "      <td>66961</td>\n",
       "      <td>1990-06-25</td>\n",
       "    </tr>\n",
       "    <tr>\n",
       "      <th>...</th>\n",
       "      <td>...</td>\n",
       "      <td>...</td>\n",
       "      <td>...</td>\n",
       "    </tr>\n",
       "    <tr>\n",
       "      <th>9995</th>\n",
       "      <td>Senior Engineer</td>\n",
       "      <td>92424</td>\n",
       "      <td>1990-08-22</td>\n",
       "    </tr>\n",
       "    <tr>\n",
       "      <th>9996</th>\n",
       "      <td>Senior Engineer</td>\n",
       "      <td>54083</td>\n",
       "      <td>1986-06-14</td>\n",
       "    </tr>\n",
       "    <tr>\n",
       "      <th>9997</th>\n",
       "      <td>Senior Engineer</td>\n",
       "      <td>54484</td>\n",
       "      <td>1987-06-14</td>\n",
       "    </tr>\n",
       "    <tr>\n",
       "      <th>9998</th>\n",
       "      <td>Senior Engineer</td>\n",
       "      <td>58120</td>\n",
       "      <td>1988-06-13</td>\n",
       "    </tr>\n",
       "    <tr>\n",
       "      <th>9999</th>\n",
       "      <td>Senior Engineer</td>\n",
       "      <td>59691</td>\n",
       "      <td>1989-06-13</td>\n",
       "    </tr>\n",
       "  </tbody>\n",
       "</table>\n",
       "<p>10000 rows × 3 columns</p>\n",
       "</div>"
      ],
      "text/plain": [
       "                title  salary   from_date\n",
       "0     Senior Engineer   60117  1986-06-26\n",
       "1     Senior Engineer   62102  1987-06-26\n",
       "2     Senior Engineer   66074  1988-06-25\n",
       "3     Senior Engineer   66596  1989-06-25\n",
       "4     Senior Engineer   66961  1990-06-25\n",
       "...               ...     ...         ...\n",
       "9995  Senior Engineer   92424  1990-08-22\n",
       "9996  Senior Engineer   54083  1986-06-14\n",
       "9997  Senior Engineer   54484  1987-06-14\n",
       "9998  Senior Engineer   58120  1988-06-13\n",
       "9999  Senior Engineer   59691  1989-06-13\n",
       "\n",
       "[10000 rows x 3 columns]"
      ]
     },
     "execution_count": 57,
     "metadata": {},
     "output_type": "execute_result"
    }
   ],
   "source": [
    "import pandas as pd\n",
    "import matplotlib.pyplot as plt\n",
    "\n",
    "query = \"\"\"\n",
    "SELECT titles.title, salaries.salary, salaries.from_date\n",
    "FROM titles\n",
    "INNER JOIN salaries ON titles.emp_no=salaries.emp_no\n",
    "WHERE titles.title=\"Senior Engineer\"\n",
    "limit 10000;\"\"\"\n",
    "\n",
    "df=pd.read_sql(query,conn)\n",
    "df"
   ]
  },
  {
   "cell_type": "code",
   "execution_count": null,
   "id": "373183f1",
   "metadata": {},
   "outputs": [],
   "source": []
  },
  {
   "cell_type": "code",
   "execution_count": null,
   "id": "9ebde538",
   "metadata": {},
   "outputs": [
    {
     "data": {
      "text/html": [
       "<div>\n",
       "<style scoped>\n",
       "    .dataframe tbody tr th:only-of-type {\n",
       "        vertical-align: middle;\n",
       "    }\n",
       "\n",
       "    .dataframe tbody tr th {\n",
       "        vertical-align: top;\n",
       "    }\n",
       "\n",
       "    .dataframe thead th {\n",
       "        text-align: right;\n",
       "    }\n",
       "</style>\n",
       "<table border=\"1\" class=\"dataframe\">\n",
       "  <thead>\n",
       "    <tr style=\"text-align: right;\">\n",
       "      <th></th>\n",
       "      <th>title</th>\n",
       "      <th>salary</th>\n",
       "      <th>from_date</th>\n",
       "    </tr>\n",
       "  </thead>\n",
       "  <tbody>\n",
       "    <tr>\n",
       "      <th>0</th>\n",
       "      <td>Senior Engineer</td>\n",
       "      <td>60117</td>\n",
       "      <td>725183</td>\n",
       "    </tr>\n",
       "    <tr>\n",
       "      <th>1</th>\n",
       "      <td>Senior Engineer</td>\n",
       "      <td>62102</td>\n",
       "      <td>725548</td>\n",
       "    </tr>\n",
       "    <tr>\n",
       "      <th>2</th>\n",
       "      <td>Senior Engineer</td>\n",
       "      <td>66074</td>\n",
       "      <td>725913</td>\n",
       "    </tr>\n",
       "    <tr>\n",
       "      <th>3</th>\n",
       "      <td>Senior Engineer</td>\n",
       "      <td>66596</td>\n",
       "      <td>726278</td>\n",
       "    </tr>\n",
       "    <tr>\n",
       "      <th>4</th>\n",
       "      <td>Senior Engineer</td>\n",
       "      <td>66961</td>\n",
       "      <td>726643</td>\n",
       "    </tr>\n",
       "    <tr>\n",
       "      <th>...</th>\n",
       "      <td>...</td>\n",
       "      <td>...</td>\n",
       "      <td>...</td>\n",
       "    </tr>\n",
       "    <tr>\n",
       "      <th>9995</th>\n",
       "      <td>Senior Engineer</td>\n",
       "      <td>92424</td>\n",
       "      <td>726701</td>\n",
       "    </tr>\n",
       "    <tr>\n",
       "      <th>9996</th>\n",
       "      <td>Senior Engineer</td>\n",
       "      <td>54083</td>\n",
       "      <td>725171</td>\n",
       "    </tr>\n",
       "    <tr>\n",
       "      <th>9997</th>\n",
       "      <td>Senior Engineer</td>\n",
       "      <td>54484</td>\n",
       "      <td>725536</td>\n",
       "    </tr>\n",
       "    <tr>\n",
       "      <th>9998</th>\n",
       "      <td>Senior Engineer</td>\n",
       "      <td>58120</td>\n",
       "      <td>725901</td>\n",
       "    </tr>\n",
       "    <tr>\n",
       "      <th>9999</th>\n",
       "      <td>Senior Engineer</td>\n",
       "      <td>59691</td>\n",
       "      <td>726266</td>\n",
       "    </tr>\n",
       "  </tbody>\n",
       "</table>\n",
       "<p>10000 rows × 3 columns</p>\n",
       "</div>"
      ],
      "text/plain": [
       "                title  salary  from_date\n",
       "0     Senior Engineer   60117     725183\n",
       "1     Senior Engineer   62102     725548\n",
       "2     Senior Engineer   66074     725913\n",
       "3     Senior Engineer   66596     726278\n",
       "4     Senior Engineer   66961     726643\n",
       "...               ...     ...        ...\n",
       "9995  Senior Engineer   92424     726701\n",
       "9996  Senior Engineer   54083     725171\n",
       "9997  Senior Engineer   54484     725536\n",
       "9998  Senior Engineer   58120     725901\n",
       "9999  Senior Engineer   59691     726266\n",
       "\n",
       "[10000 rows x 3 columns]"
      ]
     },
     "execution_count": 58,
     "metadata": {},
     "output_type": "execute_result"
    }
   ],
   "source": [
    "import datetime as dt\n",
    "\n",
    "df['from_date'] = df['from_date'].astype('datetime64[ns]')\n",
    "df['from_date'] = df['from_date'].apply(dt.datetime.toordinal)\n",
    "df\n"
   ]
  },
  {
   "cell_type": "code",
   "execution_count": null,
   "id": "86a8f951",
   "metadata": {},
   "outputs": [
    {
     "data": {
      "text/plain": [
       "array([725183, 725548, 725913, 726278, 726643, 727008, 727373, 727738,\n",
       "       728103, 728468], dtype=int64)"
      ]
     },
     "execution_count": 59,
     "metadata": {},
     "output_type": "execute_result"
    }
   ],
   "source": [
    "x=df['from_date'].values\n",
    "y=df['salary'].values\n",
    "x[0:10]"
   ]
  },
  {
   "cell_type": "code",
   "execution_count": null,
   "id": "c6c9b4e3",
   "metadata": {},
   "outputs": [],
   "source": [
    "\n",
    "import numpy as np\n",
    "import jax\n",
    "import jax.numpy as jnp\n",
    "\n",
    "def modelo(m,b,x,y):\n",
    "    return m*x+b\n",
    "\n",
    "def loss(m,b,x,y):\n",
    "    prediccion=modelo(m,b,x,y)\n",
    "    return jnp.mean((prediccion-y)**2)\n",
    "\n",
    "def update(m,b,x,y,lr):\n",
    "    m=m-lr*jax.grad(loss,argnums=0)(m,b, x, y)\n",
    "    b=b-lr*jax.grad(loss,argnums=1)(m,b, x, y)\n",
    "    return m,b"
   ]
  },
  {
   "cell_type": "code",
   "execution_count": null,
   "id": "b62b551d",
   "metadata": {},
   "outputs": [
    {
     "data": {
      "application/vnd.jupyter.widget-view+json": {
       "model_id": "560611ccdb48492988bd9aa86ab19fea",
       "version_major": 2,
       "version_minor": 0
      },
      "image/png": "[encoded data removed]",
      "text/html": [
       "\n",
       "            <div style=\"display: inline-block;\">\n",
       "                <div class=\"jupyter-widgets widget-label\" style=\"text-align: center;\">\n",
       "                    Figure\n",
       "                </div>\n",
       "                <img src='data:image/png;base64,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' width=640.0/>\n",
       "            </div>\n",
       "        "
      ],
      "text/plain": [
       "Canvas(toolbar=Toolbar(toolitems=[('Home', 'Reset original view', 'home', 'home'), ('Back', 'Back to previous …"
      ]
     },
     "metadata": {},
     "output_type": "display_data"
    }
   ],
   "source": [
    "import matplotlib.pyplot as plt\n",
    "from matplotlib.animation import FuncAnimation\n",
    "\n",
    "\n",
    "fig = plt.figure()\n",
    "xs = np.random.normal(size=(100,))\n",
    "noise = np.random.normal(scale=0.1, size=(100,))\n",
    "ys = xs * 3 - 1 + noise\n",
    "plt.scatter(xs, ys)\n",
    "plt.show()\n"
   ]
  },
  {
   "cell_type": "code",
   "execution_count": null,
   "id": "bc7a2a05",
   "metadata": {},
   "outputs": [
    {
     "name": "stderr",
     "output_type": "stream",
     "text": [
      "c:\\Users\\52333\\AppData\\Local\\Programs\\Python\\Python310\\lib\\site-packages\\matplotlib\\animation.py:887: UserWarning: Animation was deleted without rendering anything. This is most likely not intended. To prevent deletion, assign the Animation to a variable, e.g. `anim`, that exists until you have outputted the Animation using `plt.show()` or `anim.save()`.\n",
      "  warnings.warn(\n"
     ]
    }
   ],
   "source": [
    "ax = plt.axes(xlim=(-2, 3), ylim=(-8, 8))\n",
    "plt.scatter(xs, ys)\n",
    "line, = ax.plot([], [], lw=2, color = 'red')\n",
    "\n",
    "def init():\n",
    "    line.set_data([], [])\n",
    "    return line,\n",
    "\n",
    "m=1.0\n",
    "b=1.0\n",
    "\n",
    "def animate(i):\n",
    "    m = update(m,b, xs, ys)[0]\n",
    "    m = update(m,b, xs, ys)[1]\n",
    "    line.set_data(xs, model(m,b, xs))\n",
    "    return line,\n",
    "\n",
    "anim = FuncAnimation(fig, animate, init_func=init,\n",
    "                               frames=60, interval=200, repeat=False)\n"
   ]
  }
 ],
 "metadata": {
  "kernelspec": {
   "display_name": "Python 3",
   "language": "python",
   "name": "python3"
  },
  "language_info": {
   "codemirror_mode": {
    "name": "ipython",
    "version": 3
   },
   "file_extension": ".py",
   "mimetype": "text/x-python",
   "name": "python",
   "nbconvert_exporter": "python",
   "pygments_lexer": "ipython3",
   "version": "3.10.5 (tags/v3.10.5:f377153, Jun  6 2022, 16:14:13) [MSC v.1929 64 bit (AMD64)]"
  },
  "vscode": {
   "interpreter": {
    "hash": "204b973de28be2f053450059895fb876f6b1718ca01aa708473ad2968cb937fd"
   }
  }
 },
 "nbformat": 4,
 "nbformat_minor": 5
}
